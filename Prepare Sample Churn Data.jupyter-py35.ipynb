{
 "cells": [
  {
   "cell_type": "markdown",
   "metadata": {
    "deletable": true,
    "editable": true
   },
   "source": [
    "# Prepare Fictitious Churn Data\n",
    "Use a publicly available fictitious dataset for a telco churn use case to generate data structured as multiple monthly files of details on customers and calls.\n",
    "\n",
    "The prepared data files are intended as sample data for running associated notebooks on selecting a subset and transforming, combining, and aggregating large datasets. They are much too small to require any of the techniques demonstrated in those notebooks (they don't require Spark, for example), but they are enough to run the code and show the intended use and results."
   ]
  },
  {
   "cell_type": "markdown",
   "metadata": {
    "deletable": true,
    "editable": true
   },
   "source": [
    "## Preliminaries"
   ]
  },
  {
   "cell_type": "code",
   "execution_count": 1,
   "metadata": {
    "collapsed": false,
    "deletable": true,
    "editable": true
   },
   "outputs": [],
   "source": [
    "import pandas as pd\n",
    "\n",
    "from calendar import month_abbr   # List: 1 = 'Jan', 2 = 'Feb', etc.\n",
    "\n",
    "import numpy as np\n",
    "import random\n",
    "import wget\n",
    "\n",
    "import os\n",
    "import glob\n",
    "\n",
    "local_path = os.environ['DSX_PROJECT_DIR'] + '/datasets/'    # Handy for reading and writing to local project"
   ]
  },
  {
   "cell_type": "code",
   "execution_count": 2,
   "metadata": {
    "collapsed": true,
    "deletable": true,
    "editable": true
   },
   "outputs": [],
   "source": [
    "# Allow multiple outputs from a cell, even without print() statements\n",
    "from IPython.core.interactiveshell import InteractiveShell\n",
    "InteractiveShell.ast_node_interactivity = \"all\""
   ]
  },
  {
   "cell_type": "markdown",
   "metadata": {
    "deletable": true,
    "editable": true
   },
   "source": [
    "## Load source data directly from the remote site\n",
    "Find the datasets in the [IBM Watson Community](https://dataplatform.cloud.ibm.com/community?context=analytics&query=telco%20churn&format=dataset)."
   ]
  },
  {
   "cell_type": "code",
   "execution_count": 3,
   "metadata": {
    "collapsed": false,
    "deletable": true,
    "editable": true
   },
   "outputs": [],
   "source": [
    "customers_url = 'https://dataplatform.cloud.ibm.com/data/exchange-api/v1/entries/4c1779a61392dedf1fd3caad4c8c8517/data?accessKey=946c86bf96596c10cc651e52502344e2'\n",
    "calls_url     = 'https://dataplatform.cloud.ibm.com/data/exchange-api/v1/entries/4c1779a61392dedf1fd3caad4cc20e64/data?accessKey=c8d0403d844a82df9ecd264df078c9cd'"
   ]
  },
  {
   "cell_type": "code",
   "execution_count": 4,
   "metadata": {
    "collapsed": false,
    "deletable": true,
    "editable": true
   },
   "outputs": [
    {
     "data": {
      "text/plain": [
       "(1000, 23)"
      ]
     },
     "execution_count": 4,
     "metadata": {},
     "output_type": "execute_result"
    },
    {
     "data": {
      "text/plain": [
       "N    676\n",
       "Y    324\n",
       "Name: churned, dtype: int64"
      ]
     },
     "execution_count": 4,
     "metadata": {},
     "output_type": "execute_result"
    },
    {
     "name": "stdout",
     "output_type": "stream",
     "text": [
      "<class 'pandas.core.frame.DataFrame'>\n",
      "RangeIndex: 1000 entries, 0 to 999\n",
      "Data columns (total 23 columns):\n",
      "customer_id                     1000 non-null object\n",
      "first_name                      1000 non-null object\n",
      "last_name                       1000 non-null object\n",
      "twitter_handle                  320 non-null object\n",
      "number                          1000 non-null object\n",
      "gender                          1000 non-null object\n",
      "age                             1000 non-null object\n",
      "type                            1000 non-null object\n",
      "location                        1000 non-null object\n",
      "location_lat                    1000 non-null object\n",
      "location_lon                    1000 non-null object\n",
      "callcenter_callcount            1000 non-null object\n",
      "text_package_deal               1000 non-null object\n",
      "voice_package_deal              1000 non-null object\n",
      "4g_handset_deal                 1000 non-null object\n",
      "all_u_can_eat_data_deal         1000 non-null object\n",
      "accidental_damage_cover_deal    1000 non-null object\n",
      "europe_roamer_deal              1000 non-null object\n",
      "americas_roamer_deal            1000 non-null object\n",
      "asia_africa_roamer_deal         1000 non-null object\n",
      "extra_handset_deal              1000 non-null object\n",
      "musicsubscription_deal          1000 non-null object\n",
      "churned                         1000 non-null object\n",
      "dtypes: object(23)\n",
      "memory usage: 179.8+ KB\n"
     ]
    }
   ],
   "source": [
    "df_cust = pd.read_csv(customers_url, header=0, dtype=str)\n",
    "\n",
    "df_cust.shape                       # 1000 rows, 23 columns\n",
    "df_cust['churned'].value_counts()   # about 2:1 not-churned:churned\n",
    "df_cust.info()                      # all columns are read as strings; only twitter_handle has na's"
   ]
  },
  {
   "cell_type": "code",
   "execution_count": 5,
   "metadata": {
    "collapsed": false,
    "deletable": true,
    "editable": true
   },
   "outputs": [],
   "source": [
    "n_total = df_cust.shape[0]                       # total numnber of rows\n",
    "n_churn = df_cust['churned'].value_counts()['Y'] # number of churners"
   ]
  },
  {
   "cell_type": "markdown",
   "metadata": {
    "deletable": true,
    "editable": true
   },
   "source": [
    "## Randomly assign to churners the month in which they left\n",
    "Churners leave in months 1=January, 2=February, ...; non-churners \"leave\" in month 13, that is, not during the period covered by this dataset."
   ]
  },
  {
   "cell_type": "code",
   "execution_count": 6,
   "metadata": {
    "collapsed": false,
    "deletable": true,
    "editable": true
   },
   "outputs": [],
   "source": [
    "random.seed(123)                     # make random assignment repeatable\n",
    "months     = 12                      # the call data covers a whole year (see below)\n",
    "churn_rate = n_churn/n_total/months  # monthly churn rate\n",
    "join_rate  = churn_rate              # arbitrary choice: set the montly join rate (customers come and go)\n",
    "\n",
    "df_cust['left_in_period'] = df_cust.apply(lambda r: months+1 if r['churned'] == 'N' else random.randint(1, months),\n",
    "                                          axis='columns')"
   ]
  },
  {
   "cell_type": "markdown",
   "metadata": {
    "deletable": true,
    "editable": true
   },
   "source": [
    "### Verify that all churns are reasonably distributed over the months\n",
    "The non-churners are represented in month 13."
   ]
  },
  {
   "cell_type": "code",
   "execution_count": 7,
   "metadata": {
    "collapsed": false,
    "deletable": true,
    "editable": true,
    "scrolled": true
   },
   "outputs": [
    {
     "data": {
      "text/plain": [
       "{1: 33,\n",
       " 2: 26,\n",
       " 3: 23,\n",
       " 4: 18,\n",
       " 5: 21,\n",
       " 6: 39,\n",
       " 7: 34,\n",
       " 8: 24,\n",
       " 9: 38,\n",
       " 10: 20,\n",
       " 11: 27,\n",
       " 12: 21,\n",
       " 13: 676}"
      ]
     },
     "execution_count": 7,
     "metadata": {},
     "output_type": "execute_result"
    }
   ],
   "source": [
    "df_cust['left_in_period'].value_counts().sort_index().to_dict()"
   ]
  },
  {
   "cell_type": "markdown",
   "metadata": {
    "deletable": true,
    "editable": true
   },
   "source": [
    "## Randomly assign all customers to a month when they joined\n",
    "Most customers were there when data collection started; mark them as having joined in \"month\" 0 (zero). But mark some fraction (which depends on the arbitrary monthly join rate) as joining in a random month within the data collection period, with the constraint that they cannot be marked as having joined in a month later than when they left (in the case of churners).\n",
    "\n",
    "There's a somewhat obscure calculation behind assigning probabilities to each of the months. The intent is to have a randomly fluctuating monthly join rate that on average matches the set value in `join_rate`."
   ]
  },
  {
   "cell_type": "code",
   "execution_count": 8,
   "metadata": {
    "collapsed": false,
    "deletable": true,
    "editable": true
   },
   "outputs": [],
   "source": [
    "counts                 = df_cust['left_in_period'].value_counts().sort_index().to_dict()\n",
    "cumulative_counts_from = [sum([counts[j+1] for j in range(i, months+1)]) for i in range(1, months+1)]\n",
    "prob                   = [join_rate*n_total/c for c in cumulative_counts_from]\n",
    "p_0s                   = [1.0 - sum(prob[:m+1]) for m in range(0, months)]\n",
    "\n",
    "def join_period(row):\n",
    "    period = row['left_in_period']\n",
    "    if period == 1:           # A churner who leaves in period 1 must have been there since period 0\n",
    "        return 0\n",
    "    elif 1 < period <= months+1:  # Randomly pick a month, with the constraint that a customer can't join after they leave\n",
    "        return np.random.choice(period, p=[p_0s[period-2]]+prob[:period-1])\n",
    "    else:\n",
    "        raise ValueError('Churn period {} is outside the range [1 ... {}]'.format(period, months))\n",
    "\n",
    "df_cust['joined_in_period'] = df_cust.apply(join_period, axis='columns')"
   ]
  },
  {
   "cell_type": "markdown",
   "metadata": {
    "deletable": true,
    "editable": true
   },
   "source": [
    "### Check the results\n",
    "Most joiners in any period never left (marked as having left in month 13); and those who joined in period 0 (before data collection) form the largest group. Those who left in period 1 must have joined in period 0. Those who left in period 2 must have joined in period 0 or 1, and so on."
   ]
  },
  {
   "cell_type": "code",
   "execution_count": 9,
   "metadata": {
    "collapsed": false,
    "deletable": true,
    "editable": true,
    "scrolled": true
   },
   "outputs": [
    {
     "data": {
      "text/plain": [
       "joined_in_period  left_in_period\n",
       "0                 1                  33\n",
       "                  2                  26\n",
       "                  3                  23\n",
       "                  4                  15\n",
       "                  5                  20\n",
       "                  6                  37\n",
       "                  7                  25\n",
       "                  8                  14\n",
       "                  9                  27\n",
       "                  10                 13\n",
       "                  11                 21\n",
       "                  12                  9\n",
       "                  13                411\n",
       "1                 11                  1\n",
       "                  12                  1\n",
       "                  13                 13\n",
       "2                 8                   3\n",
       "                  9                   2\n",
       "                  10                  1\n",
       "                  12                  2\n",
       "                  13                 17\n",
       "3                 4                   3\n",
       "                  7                   1\n",
       "                  8                   2\n",
       "                  9                   1\n",
       "                  10                  1\n",
       "                  11                  1\n",
       "                  12                  2\n",
       "                  13                 17\n",
       "4                 5                   1\n",
       "                  6                   1\n",
       "                  7                   3\n",
       "                  9                   1\n",
       "                  10                  1\n",
       "                  12                  1\n",
       "                  13                 17\n",
       "5                 6                   1\n",
       "                  7                   4\n",
       "                  8                   1\n",
       "                  9                   1\n",
       "                  10                  1\n",
       "                  13                 22\n",
       "6                 7                   1\n",
       "                  8                   3\n",
       "                  9                   2\n",
       "                  13                 28\n",
       "7                 8                   1\n",
       "                  9                   1\n",
       "                  10                  1\n",
       "                  13                 25\n",
       "8                 9                   3\n",
       "                  10                  2\n",
       "                  11                  1\n",
       "                  13                 22\n",
       "9                 11                  1\n",
       "                  12                  2\n",
       "                  13                 22\n",
       "10                11                  2\n",
       "                  12                  2\n",
       "                  13                 23\n",
       "11                12                  2\n",
       "                  13                 25\n",
       "12                13                 34\n",
       "dtype: int64"
      ]
     },
     "execution_count": 9,
     "metadata": {},
     "output_type": "execute_result"
    }
   ],
   "source": [
    "pd.options.display.max_rows = 999\n",
    "\n",
    "df_cust.groupby(['joined_in_period', 'left_in_period']).size()"
   ]
  },
  {
   "cell_type": "markdown",
   "metadata": {
    "deletable": true,
    "editable": true
   },
   "source": [
    "## Write the monthly customer files"
   ]
  },
  {
   "cell_type": "code",
   "execution_count": 10,
   "metadata": {
    "collapsed": false,
    "deletable": true,
    "editable": true
   },
   "outputs": [
    {
     "data": {
      "text/plain": [
       "['/user-home/1053/DSX_Projects/Big-Churn/datasets/customers_May.csv',\n",
       " '/user-home/1053/DSX_Projects/Big-Churn/datasets/customers_Jan.csv',\n",
       " '/user-home/1053/DSX_Projects/Big-Churn/datasets/customers_Feb.csv',\n",
       " '/user-home/1053/DSX_Projects/Big-Churn/datasets/customers_Mar.csv',\n",
       " '/user-home/1053/DSX_Projects/Big-Churn/datasets/customers_Apr.csv',\n",
       " '/user-home/1053/DSX_Projects/Big-Churn/datasets/customers_Jun.csv',\n",
       " '/user-home/1053/DSX_Projects/Big-Churn/datasets/customers_Jul.csv',\n",
       " '/user-home/1053/DSX_Projects/Big-Churn/datasets/customers_Aug.csv',\n",
       " '/user-home/1053/DSX_Projects/Big-Churn/datasets/customers_Sep.csv',\n",
       " '/user-home/1053/DSX_Projects/Big-Churn/datasets/customers_Oct.csv',\n",
       " '/user-home/1053/DSX_Projects/Big-Churn/datasets/customers_Nov.csv',\n",
       " '/user-home/1053/DSX_Projects/Big-Churn/datasets/customers_Dec.csv']"
      ]
     },
     "execution_count": 10,
     "metadata": {},
     "output_type": "execute_result"
    }
   ],
   "source": [
    "filename = os.path.join(local_path, 'customers_{}.csv')\n",
    "\n",
    "for m in range(1, months+1):\n",
    "    (df_cust.loc\n",
    "     [(df_cust['joined_in_period'] <= m) & (df_cust['left_in_period'] >= m)] # Only customers who have joined this month or before and have not left yet\n",
    "     .assign(churned = lambda r: np.where(r['left_in_period'] == m, 'Y', 'N'))   # Only mark churned in the month in which they left\n",
    "     .drop(['joined_in_period', 'left_in_period'], axis='columns')               # Don't write the join/leave supporting columns\n",
    "     .to_csv(filename.format(month_abbr[m]), header=True, index=False)\n",
    "    )\n",
    "    \n",
    "glob.glob(os.path.join(local_path, 'customers_*.csv'))"
   ]
  },
  {
   "cell_type": "markdown",
   "metadata": {
    "deletable": true,
    "editable": true
   },
   "source": [
    "## Load the call data\n",
    "Pay attention to the datetime column; coerce it into a datetime type so it can be properly manipulated and interpreted. And derive a \"date\" column, which ignores the time-of-day part."
   ]
  },
  {
   "cell_type": "code",
   "execution_count": 11,
   "metadata": {
    "collapsed": false,
    "deletable": true,
    "editable": true
   },
   "outputs": [],
   "source": [
    "schema = {\n",
    "    'from'     : str,\n",
    "    'to'       : str,\n",
    "    'dt'       : object,\n",
    "    'duration' : int,    # Need to be able to compute sums\n",
    "    'dropped'  : float   # For some reason, these are presented with decimal fractions (which are always zero), so keep them\n",
    "}\n",
    "\n",
    "df_calls         = pd.read_csv(calls_url, dtype=schema, header=0, parse_dates=[2])\n",
    "df_calls['date'] = pd.to_datetime(df_calls['dt'].dt.date)            # Precompute dates from full datetimes"
   ]
  },
  {
   "cell_type": "code",
   "execution_count": 12,
   "metadata": {
    "collapsed": false,
    "deletable": true,
    "editable": true
   },
   "outputs": [
    {
     "data": {
      "text/plain": [
       "from                object\n",
       "to                  object\n",
       "dt          datetime64[ns]\n",
       "duration             int64\n",
       "dropped            float64\n",
       "date        datetime64[ns]\n",
       "dtype: object"
      ]
     },
     "execution_count": 12,
     "metadata": {},
     "output_type": "execute_result"
    },
    {
     "data": {
      "text/plain": [
       "count                  710275\n",
       "unique                    364\n",
       "top       2013-05-16 00:00:00\n",
       "freq                     2077\n",
       "first     2013-01-01 00:00:00\n",
       "last      2013-12-30 00:00:00\n",
       "Name: date, dtype: object"
      ]
     },
     "execution_count": 12,
     "metadata": {},
     "output_type": "execute_result"
    }
   ],
   "source": [
    "df_calls.dtypes\n",
    "df_calls['date'].describe()  # Notice that the timestamps cover the range from January 1st to December 30th, (almost) a full year"
   ]
  },
  {
   "cell_type": "markdown",
   "metadata": {
    "deletable": true,
    "editable": true
   },
   "source": [
    "## Roll up individual call data into daily counts per phone number\n",
    "Each record in the call data represents a single call, with to and from numbers, duration, and whether the call was dropped or not (1 or 0, for some reason listed with a decimal fraction which is always zero). What we need is, for each number, the number of outgoing calls, minutes, and dropped calls per day, and the same for incoming calls.\n",
    "\n",
    "One wrinkle not addressed in this simulated dataset, with all the simulated customers leaving and joining each month, is that each customer churning in a given month has call throughout that month. In other words, there is no randomization of the day of the month when they stop using the service. This does not affect anything in the sample notebooks that are expected to use this dataset."
   ]
  },
  {
   "cell_type": "code",
   "execution_count": 13,
   "metadata": {
    "collapsed": false,
    "deletable": true,
    "editable": true
   },
   "outputs": [
    {
     "data": {
      "text/html": [
       "<div>\n",
       "<style>\n",
       "    .dataframe thead tr:only-child th {\n",
       "        text-align: right;\n",
       "    }\n",
       "\n",
       "    .dataframe thead th {\n",
       "        text-align: left;\n",
       "    }\n",
       "\n",
       "    .dataframe tbody tr th {\n",
       "        vertical-align: top;\n",
       "    }\n",
       "</style>\n",
       "<table border=\"1\" class=\"dataframe\">\n",
       "  <thead>\n",
       "    <tr style=\"text-align: right;\">\n",
       "      <th></th>\n",
       "      <th></th>\n",
       "      <th></th>\n",
       "      <th>from_calls</th>\n",
       "      <th>from_duration</th>\n",
       "      <th>from_dropped</th>\n",
       "    </tr>\n",
       "    <tr>\n",
       "      <th>customer_id</th>\n",
       "      <th>number</th>\n",
       "      <th>date</th>\n",
       "      <th></th>\n",
       "      <th></th>\n",
       "      <th></th>\n",
       "    </tr>\n",
       "  </thead>\n",
       "  <tbody>\n",
       "    <tr>\n",
       "      <th rowspan=\"5\" valign=\"top\">C0000000000</th>\n",
       "      <th rowspan=\"5\" valign=\"top\">2295782445</th>\n",
       "      <th>2013-01-01</th>\n",
       "      <td>7</td>\n",
       "      <td>107</td>\n",
       "      <td>0.0</td>\n",
       "    </tr>\n",
       "    <tr>\n",
       "      <th>2013-01-02</th>\n",
       "      <td>5</td>\n",
       "      <td>25</td>\n",
       "      <td>1.0</td>\n",
       "    </tr>\n",
       "    <tr>\n",
       "      <th>2013-01-03</th>\n",
       "      <td>4</td>\n",
       "      <td>61</td>\n",
       "      <td>0.0</td>\n",
       "    </tr>\n",
       "    <tr>\n",
       "      <th>2013-01-04</th>\n",
       "      <td>2</td>\n",
       "      <td>13</td>\n",
       "      <td>0.0</td>\n",
       "    </tr>\n",
       "    <tr>\n",
       "      <th>2013-01-05</th>\n",
       "      <td>6</td>\n",
       "      <td>63</td>\n",
       "      <td>0.0</td>\n",
       "    </tr>\n",
       "  </tbody>\n",
       "</table>\n",
       "</div>"
      ],
      "text/plain": [
       "                                   from_calls  from_duration  from_dropped\n",
       "customer_id number     date                                               \n",
       "C0000000000 2295782445 2013-01-01           7            107           0.0\n",
       "                       2013-01-02           5             25           1.0\n",
       "                       2013-01-03           4             61           0.0\n",
       "                       2013-01-04           2             13           0.0\n",
       "                       2013-01-05           6             63           0.0"
      ]
     },
     "execution_count": 13,
     "metadata": {},
     "output_type": "execute_result"
    },
    {
     "data": {
      "text/html": [
       "<div>\n",
       "<style>\n",
       "    .dataframe thead tr:only-child th {\n",
       "        text-align: right;\n",
       "    }\n",
       "\n",
       "    .dataframe thead th {\n",
       "        text-align: left;\n",
       "    }\n",
       "\n",
       "    .dataframe tbody tr th {\n",
       "        vertical-align: top;\n",
       "    }\n",
       "</style>\n",
       "<table border=\"1\" class=\"dataframe\">\n",
       "  <thead>\n",
       "    <tr style=\"text-align: right;\">\n",
       "      <th></th>\n",
       "      <th></th>\n",
       "      <th></th>\n",
       "      <th>to_calls</th>\n",
       "      <th>to_duration</th>\n",
       "      <th>to_dropped</th>\n",
       "    </tr>\n",
       "    <tr>\n",
       "      <th>customer_id</th>\n",
       "      <th>number</th>\n",
       "      <th>date</th>\n",
       "      <th></th>\n",
       "      <th></th>\n",
       "      <th></th>\n",
       "    </tr>\n",
       "  </thead>\n",
       "  <tbody>\n",
       "    <tr>\n",
       "      <th rowspan=\"5\" valign=\"top\">C0000000000</th>\n",
       "      <th rowspan=\"5\" valign=\"top\">2295782445</th>\n",
       "      <th>2013-01-02</th>\n",
       "      <td>1</td>\n",
       "      <td>1</td>\n",
       "      <td>1.0</td>\n",
       "    </tr>\n",
       "    <tr>\n",
       "      <th>2013-01-03</th>\n",
       "      <td>3</td>\n",
       "      <td>42</td>\n",
       "      <td>1.0</td>\n",
       "    </tr>\n",
       "    <tr>\n",
       "      <th>2013-01-12</th>\n",
       "      <td>1</td>\n",
       "      <td>10</td>\n",
       "      <td>0.0</td>\n",
       "    </tr>\n",
       "    <tr>\n",
       "      <th>2013-01-13</th>\n",
       "      <td>1</td>\n",
       "      <td>12</td>\n",
       "      <td>0.0</td>\n",
       "    </tr>\n",
       "    <tr>\n",
       "      <th>2013-01-19</th>\n",
       "      <td>1</td>\n",
       "      <td>1</td>\n",
       "      <td>1.0</td>\n",
       "    </tr>\n",
       "  </tbody>\n",
       "</table>\n",
       "</div>"
      ],
      "text/plain": [
       "                                   to_calls  to_duration  to_dropped\n",
       "customer_id number     date                                         \n",
       "C0000000000 2295782445 2013-01-02         1            1         1.0\n",
       "                       2013-01-03         3           42         1.0\n",
       "                       2013-01-12         1           10         0.0\n",
       "                       2013-01-13         1           12         0.0\n",
       "                       2013-01-19         1            1         1.0"
      ]
     },
     "execution_count": 13,
     "metadata": {},
     "output_type": "execute_result"
    }
   ],
   "source": [
    "# Outgoing calls from the number\n",
    "df_from = (df_cust\n",
    "             .merge(df_calls, how='inner', left_on='number', right_on='from')\n",
    "             [['customer_id','number','date','duration','dropped']]\n",
    "             .groupby(['customer_id','number','date'])                      # customer_id and number are linked one-to-one, but no matter\n",
    "             .agg({'number':'size', 'duration':'sum', 'dropped':'sum'}, axis='columns')    # arbitrary column name for count; size(), not count()\n",
    "             .rename(columns={'number':'from_calls', 'duration':'from_duration', 'dropped':'from_dropped'})\n",
    "          )\n",
    "\n",
    "# Incoming calls to the number\n",
    "df_to   = (df_cust\n",
    "             .merge(df_calls, how='inner', left_on='number', right_on='to')[['customer_id','number','date','duration','dropped']]\n",
    "             .groupby(['customer_id','number','date'])\n",
    "             .agg({'number':'size', 'duration':'sum', 'dropped':'sum'}, axis='columns')\n",
    "             .rename(columns={'number':'to_calls', 'duration':'to_duration', 'dropped':'to_dropped'})\n",
    "          )\n",
    "\n",
    "df_from.head()\n",
    "df_to.head()"
   ]
  },
  {
   "cell_type": "code",
   "execution_count": 14,
   "metadata": {
    "collapsed": false,
    "deletable": true,
    "editable": true
   },
   "outputs": [
    {
     "data": {
      "text/html": [
       "<div>\n",
       "<style>\n",
       "    .dataframe thead tr:only-child th {\n",
       "        text-align: right;\n",
       "    }\n",
       "\n",
       "    .dataframe thead th {\n",
       "        text-align: left;\n",
       "    }\n",
       "\n",
       "    .dataframe tbody tr th {\n",
       "        vertical-align: top;\n",
       "    }\n",
       "</style>\n",
       "<table border=\"1\" class=\"dataframe\">\n",
       "  <thead>\n",
       "    <tr style=\"text-align: right;\">\n",
       "      <th></th>\n",
       "      <th>number</th>\n",
       "      <th>date</th>\n",
       "      <th>from_calls</th>\n",
       "      <th>from_duration</th>\n",
       "      <th>from_dropped</th>\n",
       "      <th>to_calls</th>\n",
       "      <th>to_duration</th>\n",
       "      <th>to_dropped</th>\n",
       "      <th>month</th>\n",
       "      <th>joined_in_period</th>\n",
       "      <th>left_in_period</th>\n",
       "    </tr>\n",
       "    <tr>\n",
       "      <th>customer_id</th>\n",
       "      <th></th>\n",
       "      <th></th>\n",
       "      <th></th>\n",
       "      <th></th>\n",
       "      <th></th>\n",
       "      <th></th>\n",
       "      <th></th>\n",
       "      <th></th>\n",
       "      <th></th>\n",
       "      <th></th>\n",
       "      <th></th>\n",
       "    </tr>\n",
       "  </thead>\n",
       "  <tbody>\n",
       "    <tr>\n",
       "      <th>C0000000000</th>\n",
       "      <td>2295782445</td>\n",
       "      <td>2013-01-01</td>\n",
       "      <td>7</td>\n",
       "      <td>107</td>\n",
       "      <td>0.0</td>\n",
       "      <td>0</td>\n",
       "      <td>0</td>\n",
       "      <td>0.0</td>\n",
       "      <td>1</td>\n",
       "      <td>0</td>\n",
       "      <td>13</td>\n",
       "    </tr>\n",
       "    <tr>\n",
       "      <th>C0000000000</th>\n",
       "      <td>2295782445</td>\n",
       "      <td>2013-01-02</td>\n",
       "      <td>5</td>\n",
       "      <td>25</td>\n",
       "      <td>1.0</td>\n",
       "      <td>1</td>\n",
       "      <td>1</td>\n",
       "      <td>1.0</td>\n",
       "      <td>1</td>\n",
       "      <td>0</td>\n",
       "      <td>13</td>\n",
       "    </tr>\n",
       "    <tr>\n",
       "      <th>C0000000000</th>\n",
       "      <td>2295782445</td>\n",
       "      <td>2013-01-03</td>\n",
       "      <td>4</td>\n",
       "      <td>61</td>\n",
       "      <td>0.0</td>\n",
       "      <td>3</td>\n",
       "      <td>42</td>\n",
       "      <td>1.0</td>\n",
       "      <td>1</td>\n",
       "      <td>0</td>\n",
       "      <td>13</td>\n",
       "    </tr>\n",
       "    <tr>\n",
       "      <th>C0000000000</th>\n",
       "      <td>2295782445</td>\n",
       "      <td>2013-01-04</td>\n",
       "      <td>2</td>\n",
       "      <td>13</td>\n",
       "      <td>0.0</td>\n",
       "      <td>0</td>\n",
       "      <td>0</td>\n",
       "      <td>0.0</td>\n",
       "      <td>1</td>\n",
       "      <td>0</td>\n",
       "      <td>13</td>\n",
       "    </tr>\n",
       "    <tr>\n",
       "      <th>C0000000000</th>\n",
       "      <td>2295782445</td>\n",
       "      <td>2013-01-05</td>\n",
       "      <td>6</td>\n",
       "      <td>63</td>\n",
       "      <td>0.0</td>\n",
       "      <td>0</td>\n",
       "      <td>0</td>\n",
       "      <td>0.0</td>\n",
       "      <td>1</td>\n",
       "      <td>0</td>\n",
       "      <td>13</td>\n",
       "    </tr>\n",
       "  </tbody>\n",
       "</table>\n",
       "</div>"
      ],
      "text/plain": [
       "                 number       date  from_calls  from_duration  from_dropped  \\\n",
       "customer_id                                                                   \n",
       "C0000000000  2295782445 2013-01-01           7            107           0.0   \n",
       "C0000000000  2295782445 2013-01-02           5             25           1.0   \n",
       "C0000000000  2295782445 2013-01-03           4             61           0.0   \n",
       "C0000000000  2295782445 2013-01-04           2             13           0.0   \n",
       "C0000000000  2295782445 2013-01-05           6             63           0.0   \n",
       "\n",
       "             to_calls  to_duration  to_dropped  month  joined_in_period  \\\n",
       "customer_id                                                               \n",
       "C0000000000         0            0         0.0      1                 0   \n",
       "C0000000000         1            1         1.0      1                 0   \n",
       "C0000000000         3           42         1.0      1                 0   \n",
       "C0000000000         0            0         0.0      1                 0   \n",
       "C0000000000         0            0         0.0      1                 0   \n",
       "\n",
       "             left_in_period  \n",
       "customer_id                  \n",
       "C0000000000              13  \n",
       "C0000000000              13  \n",
       "C0000000000              13  \n",
       "C0000000000              13  \n",
       "C0000000000              13  "
      ]
     },
     "execution_count": 14,
     "metadata": {},
     "output_type": "execute_result"
    }
   ],
   "source": [
    "# Put customer_id into the df_cust index, in preparation for a join\n",
    "if not df_cust.index.name: df_cust = df_cust.set_index('customer_id')\n",
    "\n",
    "# Put to and from calls together.\n",
    "# Fill in any na's from the outer join: na means zero calls (and minutes, dropped) for that category.\n",
    "# Columns with na's have to be of float type (Pandas/numpy restriction), so coerce to int after filling.\n",
    "# Derive a month column from the date column (integer 1,...,12, can be compared to the joined/left helper columns).\n",
    "# Add in the joined/left helper columns for later selection\n",
    "df_daily = (df_from.join(df_to, how='outer')\n",
    "            .fillna(0)                         # \n",
    "            .astype({'from_calls':int, 'from_duration':int, 'to_calls':int, 'to_duration':int})\n",
    "            .reset_index(['number','date'])\n",
    "            .assign(month=lambda x: x['date'].dt.month)\n",
    "            .join(df_cust[['joined_in_period', 'left_in_period']])\n",
    "           )\n",
    "\n",
    "df_daily.head()"
   ]
  },
  {
   "cell_type": "markdown",
   "metadata": {
    "deletable": true,
    "editable": true
   },
   "source": [
    "## Write the monthly call files"
   ]
  },
  {
   "cell_type": "code",
   "execution_count": 15,
   "metadata": {
    "collapsed": false,
    "deletable": true,
    "editable": true,
    "scrolled": true
   },
   "outputs": [
    {
     "data": {
      "text/plain": [
       "['/user-home/1053/DSX_Projects/Big-Churn/datasets/calls_May.csv',\n",
       " '/user-home/1053/DSX_Projects/Big-Churn/datasets/calls_Jan.csv',\n",
       " '/user-home/1053/DSX_Projects/Big-Churn/datasets/calls_Feb.csv',\n",
       " '/user-home/1053/DSX_Projects/Big-Churn/datasets/calls_Mar.csv',\n",
       " '/user-home/1053/DSX_Projects/Big-Churn/datasets/calls_Apr.csv',\n",
       " '/user-home/1053/DSX_Projects/Big-Churn/datasets/calls_Jun.csv',\n",
       " '/user-home/1053/DSX_Projects/Big-Churn/datasets/calls_Jul.csv',\n",
       " '/user-home/1053/DSX_Projects/Big-Churn/datasets/calls_Aug.csv',\n",
       " '/user-home/1053/DSX_Projects/Big-Churn/datasets/calls_Sep.csv',\n",
       " '/user-home/1053/DSX_Projects/Big-Churn/datasets/calls_Oct.csv',\n",
       " '/user-home/1053/DSX_Projects/Big-Churn/datasets/calls_Nov.csv',\n",
       " '/user-home/1053/DSX_Projects/Big-Churn/datasets/calls_Dec.csv']"
      ]
     },
     "execution_count": 15,
     "metadata": {},
     "output_type": "execute_result"
    }
   ],
   "source": [
    "filename = os.path.join(local_path, 'calls_{}.csv')\n",
    "\n",
    "for m in range(1, months+1):\n",
    "    (df_daily\n",
    "     .loc[(df_daily['month']            == m) &                           # filter by month\n",
    "          (df_daily['joined_in_period']  < m) &                           # must have joined previously\n",
    "          (df_daily['left_in_period']   >= m)]                            # must not have left yet\n",
    "     .drop(['month','joined_in_period','left_in_period'], axis='columns')\n",
    "     .to_csv(filename.format(month_abbr[m]), header=True, index=True)\n",
    "    )\n",
    "    \n",
    "glob.glob(os.path.join(local_path, 'calls_*.csv'))"
   ]
  },
  {
   "cell_type": "markdown",
   "metadata": {},
   "source": [
    "### Developed by IBM Data Science Elite Team, IBM Data Science and AI:\n",
    "- Robert Uleman, Data Science Engineer\n",
    "\n",
    "Copyright (c) 2019 IBM Corporation"
   ]
  }
 ],
 "metadata": {
  "kernelspec": {
   "display_name": "Python3.5 with Watson Studio Spark 2.2.1",
   "language": "python",
   "name": "python3"
  },
  "language_info": {
   "codemirror_mode": {
    "name": "ipython",
    "version": 3
   },
   "file_extension": ".py",
   "mimetype": "text/x-python",
   "name": "python",
   "nbconvert_exporter": "python",
   "pygments_lexer": "ipython3",
   "version": "3.5.5"
  }
 },
 "nbformat": 4,
 "nbformat_minor": 2
}
